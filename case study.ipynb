{
 "cells": [
  {
   "cell_type": "code",
   "execution_count": 1,
   "id": "8b5ed2a0",
   "metadata": {},
   "outputs": [],
   "source": [
    "# Alexis Georgiou\n",
    "# The code uses python:\n",
    "#    1) to fetch the data, then store it to a local postgreSQL database\n",
    "#    2) queries the data from the fetched csv and stores the answer in postgreSQL database\n",
    "#    3) saves the answer on a csv\n",
    "\n",
    "# The code can update the database every time it runs, it will update any value changed in the future or any new city.\n",
    "# The code uses SQL to:\n",
    "#    1) Create tables\n",
    "#    2) Update correctly the table after every weekly run\n",
    "#    3) answer and store the query\n",
    "\n",
    "#    Note: We could use a .py file to run this every week, I used a notebook for more readability\n",
    "#    I did not included every column to be stored in the database for demonstration and readability"
   ]
  },
  {
   "cell_type": "code",
   "execution_count": 2,
   "id": "0d5647e6",
   "metadata": {
    "scrolled": true
   },
   "outputs": [],
   "source": [
    "import pandas as pd\n",
    "import psycopg2"
   ]
  },
  {
   "cell_type": "markdown",
   "id": "421ac755",
   "metadata": {},
   "source": [
    "# Fetching the data"
   ]
  },
  {
   "cell_type": "code",
   "execution_count": 3,
   "id": "15eafcff",
   "metadata": {
    "scrolled": true
   },
   "outputs": [
    {
     "name": "stdout",
     "output_type": "stream",
     "text": [
      "   Geoname ID       Name ASCII Name  \\\n",
      "0     2744324      Wisch      Wisch   \n",
      "1     2744904      Weesp      Weesp   \n",
      "2     2745127     Waalre     Waalre   \n",
      "3     2745373  Vlokhoven  Vlokhoven   \n",
      "4     2746052    Twijzel    Twijzel   \n",
      "\n",
      "                                     Alternate Names Feature Class  \\\n",
      "0                                                NaN             P   \n",
      "1  Vesp,Veysp,Weesp,fysb,wei si pu,Весп,Վեյսպ,فيس...             P   \n",
      "2                                             Waalre             P   \n",
      "3                                                NaN             P   \n",
      "4                                     Twijzel,Twizel             P   \n",
      "\n",
      "  Feature Code Country Code Country name EN Country Code 2 Admin1 Code  \\\n",
      "0          PPL           NL     Netherlands            NaN          03   \n",
      "1          PPL           NL     Netherlands            NaN          07   \n",
      "2          PPL           NL     Netherlands            NaN          06   \n",
      "3          PPL           NL     Netherlands            NaN          06   \n",
      "4          PPL           NL     Netherlands            NaN          02   \n",
      "\n",
      "  Admin2 Code Admin3 Code Admin4 Code  Population  Elevation  \\\n",
      "0        1509         NaN         NaN       19496        NaN   \n",
      "1        0457         NaN         NaN       17802        NaN   \n",
      "2        0866         NaN         NaN        6445        NaN   \n",
      "3        0772         NaN         NaN        3570        NaN   \n",
      "4        0059         NaN         NaN        1020        NaN   \n",
      "\n",
      "   DIgital Elevation Model          Timezone Modification date     LABEL EN  \\\n",
      "0                       15  Europe/Amsterdam        2011-06-04  Netherlands   \n",
      "1                        5  Europe/Amsterdam        2017-10-17  Netherlands   \n",
      "2                       24  Europe/Amsterdam        2017-10-17  Netherlands   \n",
      "3                       17  Europe/Amsterdam        2017-03-24  Netherlands   \n",
      "4                        1  Europe/Amsterdam        2017-10-17  Netherlands   \n",
      "\n",
      "         Coordinates  \n",
      "0  51.92648, 6.41705  \n",
      "1   52.3075, 5.04167  \n",
      "2  51.38667, 5.44444  \n",
      "3  51.46667, 5.48333  \n",
      "4  53.23152, 6.08952  \n"
     ]
    }
   ],
   "source": [
    "#Use url to fetch, or filename to read locally\n",
    "filename = 'geonames-all-cities-with-a-population-1000.csv'\n",
    "url = \"https://public.opendatasoft.com/api/explore/v2.1/catalog/datasets/geonames-all-cities-with-a-population-1000/exports/csv?lang=en&timezone=Europe%2FBerlin&use_labels=true&delimiter=%3B\"\n",
    "df = pd.read_csv(url, sep = ';')\n",
    "\n",
    "print(df.head())"
   ]
  },
  {
   "cell_type": "markdown",
   "id": "139fb69b",
   "metadata": {},
   "source": [
    "# Connect to database and store the fetched data"
   ]
  },
  {
   "cell_type": "code",
   "execution_count": 4,
   "id": "865e75f4",
   "metadata": {},
   "outputs": [],
   "source": [
    "# Connect to a PostgreSQL database\n",
    "conn = psycopg2.connect(\n",
    "    host='localhost',\n",
    "    port='5432',\n",
    "    database='postgres',\n",
    "    user='postgres',\n",
    "    password='1234'\n",
    ")\n",
    "# Create a cursor\n",
    "cur = conn.cursor()"
   ]
  },
  {
   "cell_type": "code",
   "execution_count": 5,
   "id": "03981f2f",
   "metadata": {},
   "outputs": [],
   "source": [
    "cur = conn.cursor()\n",
    "#Create a table with the csv info (have to declare datatype of each column, for demonstration we make 4 columns)\n",
    "cur.execute('''\n",
    "    CREATE TABLE IF NOT EXISTS city_population (\n",
    "        geoname_id INT NOT NULL PRIMARY KEY,\n",
    "        city_name TEXT NOT NULL,\n",
    "        country_name TEXT,\n",
    "        country_code TEXT,\n",
    "        population INT\n",
    "    );\n",
    "''')\n",
    "\n",
    "# Replace the data into the table\n",
    "# This will insert new data if we have a new geoname_id (e.g new city is added)\n",
    "# This will replace the rows of data that already exist (e.g population for a city is increased), it won't add new records again\n",
    "for _, row in df.iterrows():\n",
    "    cur.execute('''\n",
    "        INSERT INTO city_population (geoname_id, city_name, country_name, country_code, population)\n",
    "        VALUES (%s, %s, %s, %s, %s)\n",
    "        ON CONFLICT(geoname_id) \n",
    "        DO UPDATE SET \n",
    "            city_name = EXCLUDED.city_name,\n",
    "            country_name = EXCLUDED.country_name,\n",
    "            country_code = EXCLUDED.country_code,\n",
    "            population = EXCLUDED.population;\n",
    "    ''', (row['Geoname ID'], row['Name'], row['Country name EN'], row['Country Code'], row['Population']))\n",
    "    \n",
    "# Commit the changes\n",
    "conn.commit()\n",
    "cur.close()"
   ]
  },
  {
   "cell_type": "markdown",
   "id": "211abe0e",
   "metadata": {},
   "source": [
    "# Answer the query using python pandas"
   ]
  },
  {
   "cell_type": "code",
   "execution_count": 6,
   "id": "4506e2dc",
   "metadata": {},
   "outputs": [
    {
     "data": {
      "text/plain": [
       "['CN', 'BR', 'PK', 'KR', 'MX', 'RU', 'NG', 'TR', 'IN', 'BD']"
      ]
     },
     "execution_count": 6,
     "metadata": {},
     "output_type": "execute_result"
    }
   ],
   "source": [
    "#Keeping only rows we are interested\n",
    "df1 = df[['Population', 'Country Code']]\n",
    "\n",
    "#Identifying countries that have a megapolis\n",
    "big_cities_df = df1[df1['Population'] > 10_000_000]\n",
    "bad_countries = []\n",
    "for index, row in big_cities_df.iterrows():\n",
    "    population = row['Population']\n",
    "    country_code = row['Country Code']\n",
    "    if population >= 10_000_000:\n",
    "        bad_countries.append(country_code)\n",
    "\n",
    "bad_countries = list(set(bad_countries))\n",
    "bad_countries"
   ]
  },
  {
   "cell_type": "code",
   "execution_count": 7,
   "id": "aa1dab1c",
   "metadata": {},
   "outputs": [],
   "source": [
    "# Get the unique countries frame\n",
    "df2 = df[['Country name EN', 'Country Code']].drop_duplicates()\n",
    "\n",
    "# Remove rows with bad_countries codes\n",
    "df2 = df2[~df2['Country Code'].isin(bad_countries)]\n",
    "\n",
    "# Sort by country name\n",
    "df2 = df2.sort_values(by=['Country name EN'])\n",
    "\n",
    "#Save a csv of the answer\n",
    "df2.to_csv('result.csv', sep='\\t', index=False)"
   ]
  },
  {
   "cell_type": "code",
   "execution_count": 8,
   "id": "02696beb",
   "metadata": {},
   "outputs": [
    {
     "data": {
      "text/html": [
       "<div>\n",
       "<style scoped>\n",
       "    .dataframe tbody tr th:only-of-type {\n",
       "        vertical-align: middle;\n",
       "    }\n",
       "\n",
       "    .dataframe tbody tr th {\n",
       "        vertical-align: top;\n",
       "    }\n",
       "\n",
       "    .dataframe thead th {\n",
       "        text-align: right;\n",
       "    }\n",
       "</style>\n",
       "<table border=\"1\" class=\"dataframe\">\n",
       "  <thead>\n",
       "    <tr style=\"text-align: right;\">\n",
       "      <th></th>\n",
       "      <th>Country name EN</th>\n",
       "      <th>Country Code</th>\n",
       "    </tr>\n",
       "  </thead>\n",
       "  <tbody>\n",
       "    <tr>\n",
       "      <th>2445</th>\n",
       "      <td>Afghanistan</td>\n",
       "      <td>AF</td>\n",
       "    </tr>\n",
       "    <tr>\n",
       "      <th>2448</th>\n",
       "      <td>Albania</td>\n",
       "      <td>AL</td>\n",
       "    </tr>\n",
       "    <tr>\n",
       "      <th>2186</th>\n",
       "      <td>Algeria</td>\n",
       "      <td>DZ</td>\n",
       "    </tr>\n",
       "    <tr>\n",
       "      <th>2519</th>\n",
       "      <td>American Samoa</td>\n",
       "      <td>AS</td>\n",
       "    </tr>\n",
       "    <tr>\n",
       "      <th>8477</th>\n",
       "      <td>Andorra</td>\n",
       "      <td>AD</td>\n",
       "    </tr>\n",
       "    <tr>\n",
       "      <th>...</th>\n",
       "      <td>...</td>\n",
       "      <td>...</td>\n",
       "    </tr>\n",
       "    <tr>\n",
       "      <th>49190</th>\n",
       "      <td>NaN</td>\n",
       "      <td>PN</td>\n",
       "    </tr>\n",
       "    <tr>\n",
       "      <th>52301</th>\n",
       "      <td>NaN</td>\n",
       "      <td>MF</td>\n",
       "    </tr>\n",
       "    <tr>\n",
       "      <th>101494</th>\n",
       "      <td>NaN</td>\n",
       "      <td>BL</td>\n",
       "    </tr>\n",
       "    <tr>\n",
       "      <th>121326</th>\n",
       "      <td>NaN</td>\n",
       "      <td>CC</td>\n",
       "    </tr>\n",
       "    <tr>\n",
       "      <th>136130</th>\n",
       "      <td>NaN</td>\n",
       "      <td>TF</td>\n",
       "    </tr>\n",
       "  </tbody>\n",
       "</table>\n",
       "<p>236 rows × 2 columns</p>\n",
       "</div>"
      ],
      "text/plain": [
       "       Country name EN Country Code\n",
       "2445       Afghanistan           AF\n",
       "2448           Albania           AL\n",
       "2186           Algeria           DZ\n",
       "2519    American Samoa           AS\n",
       "8477           Andorra           AD\n",
       "...                ...          ...\n",
       "49190              NaN           PN\n",
       "52301              NaN           MF\n",
       "101494             NaN           BL\n",
       "121326             NaN           CC\n",
       "136130             NaN           TF\n",
       "\n",
       "[236 rows x 2 columns]"
      ]
     },
     "execution_count": 8,
     "metadata": {},
     "output_type": "execute_result"
    }
   ],
   "source": [
    "df2"
   ]
  },
  {
   "cell_type": "markdown",
   "id": "2b5a3625",
   "metadata": {},
   "source": [
    "# Store the answered query in the database"
   ]
  },
  {
   "cell_type": "code",
   "execution_count": 9,
   "id": "e96cc3ff",
   "metadata": {},
   "outputs": [],
   "source": [
    "#Drop previous answer\n",
    "cur = conn.cursor()\n",
    "cur.execute('''\n",
    "    DROP TABLE IF EXISTS no_megapolis_countries;\n",
    "''')\n",
    "cur.close()\n",
    "\n",
    "cur = conn.cursor()\n",
    "# Create the table of the query answer\n",
    "cur.execute('''\n",
    "    CREATE TABLE IF NOT EXISTS no_megapolis_countries (\n",
    "        country_name TEXT,\n",
    "        country_code TEXT NOT NULL PRIMARY KEY\n",
    "    );\n",
    "''')\n",
    "\n",
    "# Store the dataframe into the answer table\n",
    "for _, row in df2.iterrows():\n",
    "    cur.execute('''\n",
    "        INSERT INTO no_megapolis_countries (country_name, country_code)\n",
    "        VALUES (%s, %s)\n",
    "    ''', (row['Country name EN'], row['Country Code']))\n",
    "    \n",
    "    \n",
    "# Commit the change\n",
    "cur.close()\n",
    "conn.commit()"
   ]
  },
  {
   "cell_type": "markdown",
   "id": "c9dc1d79",
   "metadata": {},
   "source": [
    "# Answer the query with SQL language"
   ]
  },
  {
   "cell_type": "code",
   "execution_count": 10,
   "id": "917dfeeb",
   "metadata": {},
   "outputs": [],
   "source": [
    "#Drop previous answer\n",
    "cur = conn.cursor()\n",
    "cur.execute('''\n",
    "    DROP TABLE IF EXISTS no_megapolis_countries_with_SQL;\n",
    "''')\n",
    "cur.close()\n",
    "\n",
    "\n",
    "cur = conn.cursor()\n",
    "#Create a table with the answer\n",
    "cur.execute('''\n",
    "    CREATE TABLE IF NOT EXISTS no_megapolis_countries_with_SQL (\n",
    "        country_name TEXT,\n",
    "        country_code TEXT NOT NULL PRIMARY KEY\n",
    "    );\n",
    "''')\n",
    "\n",
    "#SQL query answer\n",
    "cur.execute('''\n",
    "    INSERT INTO no_megapolis_countries_with_SQL (country_name, country_code)\n",
    "    SELECT country_name, country_code\n",
    "    FROM city_population\n",
    "    GROUP BY country_name, country_code\n",
    "    HAVING MAX(population) <= 10000000\n",
    "    ORDER BY country_name;\n",
    "''')\n",
    "\n",
    "# Commit the changes \n",
    "conn.commit()\n",
    "cur.close()"
   ]
  },
  {
   "cell_type": "markdown",
   "id": "126f94d5",
   "metadata": {},
   "source": [
    "# Close connection"
   ]
  },
  {
   "cell_type": "code",
   "execution_count": 11,
   "id": "6ce8392a",
   "metadata": {},
   "outputs": [],
   "source": [
    "\n",
    "# Close the connection\n",
    "conn.close()"
   ]
  }
 ],
 "metadata": {
  "kernelspec": {
   "display_name": "Python 3 (ipykernel)",
   "language": "python",
   "name": "python3"
  },
  "language_info": {
   "codemirror_mode": {
    "name": "ipython",
    "version": 3
   },
   "file_extension": ".py",
   "mimetype": "text/x-python",
   "name": "python",
   "nbconvert_exporter": "python",
   "pygments_lexer": "ipython3",
   "version": "3.9.12"
  }
 },
 "nbformat": 4,
 "nbformat_minor": 5
}
